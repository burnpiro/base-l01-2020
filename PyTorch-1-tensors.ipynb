{
 "cells": [
  {
   "cell_type": "markdown",
   "metadata": {},
   "source": [
    "PyTorch\n",
    "====\n"
   ]
  },
  {
   "cell_type": "markdown",
   "metadata": {},
   "source": [
    "**PyTorch** is an open source machine learning framework with two main features:\n",
    "  *  tensor computation (GPU-accelerated), *a.k.a.* a replacement for NumPy,\n",
    "  *  deep neural networks built on a tape-based autograd system.\n"
   ]
  },
  {
   "cell_type": "code",
   "execution_count": 1,
   "metadata": {},
   "outputs": [],
   "source": [
    "# import the library\n",
    "import torch\n",
    "import numpy as np\n"
   ]
  },
  {
   "cell_type": "markdown",
   "metadata": {},
   "source": [
    "Tensors\n",
    "-----\n"
   ]
  },
  {
   "cell_type": "markdown",
   "metadata": {},
   "source": [
    "`torch.Tensor` is the central class of the package. Tensors are similar to NumPy's `np.ndarray`s."
   ]
  },
  {
   "cell_type": "markdown",
   "metadata": {},
   "source": [
    "###  1. Create tensors\n"
   ]
  },
  {
   "cell_type": "code",
   "execution_count": 2,
   "metadata": {},
   "outputs": [
    {
     "name": "stdout",
     "output_type": "stream",
     "text": [
      "tensor([[0., 0., 0.],\n",
      "        [0., 0., 0.],\n",
      "        [0., 0., 0.],\n",
      "        [0., 0., 0.],\n",
      "        [0., 0., 0.]])\n"
     ]
    }
   ],
   "source": [
    "# construct an empty 5x3 matrix, uninitialized\n",
    "x = torch.empty(5, 3)\n",
    "print(x)\n"
   ]
  },
  {
   "cell_type": "code",
   "execution_count": 3,
   "metadata": {},
   "outputs": [
    {
     "name": "stdout",
     "output_type": "stream",
     "text": [
      "tensor([[0.5191, 0.2018, 0.3893],\n",
      "        [0.9440, 0.1548, 0.1060],\n",
      "        [0.1154, 0.7860, 0.9539],\n",
      "        [0.9543, 0.0807, 0.1180],\n",
      "        [0.1367, 0.3283, 0.1017]])\n",
      "tensor([[ 0.2430,  0.9436,  0.0059],\n",
      "        [ 1.4308, -2.3691,  0.0606],\n",
      "        [-1.8024,  1.5526,  0.1833],\n",
      "        [-0.2010,  2.5713,  0.2707],\n",
      "        [-0.2531,  0.3503, -0.2024]])\n",
      "None\n"
     ]
    }
   ],
   "source": [
    "# construct a randomly initialized 5x3 matrix\n",
    "x = torch.rand(5, 3)  # uniform\n",
    "print(x)\n",
    "\n",
    "x = print(torch.randn(5, 3))  # normal ~ N(0, 1)\n",
    "print(x)\n"
   ]
  },
  {
   "cell_type": "code",
   "execution_count": 4,
   "metadata": {},
   "outputs": [
    {
     "name": "stdout",
     "output_type": "stream",
     "text": [
      "tensor([[0, 0, 0],\n",
      "        [0, 0, 0],\n",
      "        [0, 0, 0],\n",
      "        [0, 0, 0],\n",
      "        [0, 0, 0]])\n"
     ]
    }
   ],
   "source": [
    "# construct a matrix filled with zeros, specify dtype as `long`\n",
    "x = torch.zeros(5, 3, dtype=torch.long)\n",
    "print(x)\n"
   ]
  },
  {
   "cell_type": "code",
   "execution_count": 5,
   "metadata": {},
   "outputs": [
    {
     "name": "stdout",
     "output_type": "stream",
     "text": [
      "tensor([5.5000, 3.0000])\n"
     ]
    }
   ],
   "source": [
    "# construct a tensor from data\n",
    "x = torch.tensor([5.5, 3])  # from list\n",
    "print(x)\n"
   ]
  },
  {
   "cell_type": "code",
   "execution_count": 6,
   "metadata": {},
   "outputs": [
    {
     "name": "stdout",
     "output_type": "stream",
     "text": [
      "tensor([[1, 1, 1, 1],\n",
      "        [1, 1, 1, 1],\n",
      "        [1, 1, 1, 1],\n",
      "        [1, 1, 1, 1],\n",
      "        [1, 1, 1, 1],\n",
      "        [1, 1, 1, 1],\n",
      "        [1, 1, 1, 1],\n",
      "        [1, 1, 1, 1]])\n",
      "-----\n",
      "tensor([[1, 1, 1],\n",
      "        [1, 1, 1],\n",
      "        [1, 1, 1],\n",
      "        [1, 1, 1],\n",
      "        [1, 1, 1]])\n",
      "tensor([[1, 1, 1, 1],\n",
      "        [1, 1, 1, 1],\n",
      "        [1, 1, 1, 1],\n",
      "        [1, 1, 1, 1],\n",
      "        [1, 1, 1, 1],\n",
      "        [1, 1, 1, 1],\n",
      "        [1, 1, 1, 1],\n",
      "        [1, 1, 1, 1]])\n",
      "-----\n",
      "tensor([[ 1.3712,  2.2850,  0.5070,  1.2813],\n",
      "        [ 1.2718,  0.8674,  0.6304,  1.1826],\n",
      "        [ 0.1918, -1.3667,  0.3102, -0.1653],\n",
      "        [-1.8360,  1.2801, -1.5472, -1.8649],\n",
      "        [ 0.8578,  0.8026,  2.3865,  0.4935],\n",
      "        [-1.5432, -0.3317,  1.3774,  0.4467],\n",
      "        [-0.2650,  1.0626, -0.1891, -0.3425],\n",
      "        [-0.7851,  0.2195,  0.4022, -0.5178]], dtype=torch.float64)\n",
      "tensor([[1, 1, 1, 1],\n",
      "        [1, 1, 1, 1],\n",
      "        [1, 1, 1, 1],\n",
      "        [1, 1, 1, 1],\n",
      "        [1, 1, 1, 1],\n",
      "        [1, 1, 1, 1],\n",
      "        [1, 1, 1, 1],\n",
      "        [1, 1, 1, 1]])\n"
     ]
    }
   ],
   "source": [
    "# create tensors based on existing tensors, reusing their parameters\n",
    "x = torch.ones(8, 4, dtype=torch.long)\n",
    "print(x)\n",
    "print('-----')\n",
    "\n",
    "# new_* methods reuse source tensor params, unless overridden\n",
    "print(x.new_ones(5, 3))\n",
    "print(x)  # not modified - new_* always copy data\n",
    "print('-----')\n",
    "\n",
    "# zeros_like, ones_like, empty_like, full_like, rand_like, randint_like, randn_like\n",
    "# create tensor of the same size, but different values\n",
    "print(torch.randn_like(x, dtype=torch.double))\n",
    "print(x)  # not modified\n"
   ]
  },
  {
   "cell_type": "markdown",
   "metadata": {},
   "source": [
    "###  2. Tensor attributes and operations\n"
   ]
  },
  {
   "cell_type": "markdown",
   "metadata": {},
   "source": [
    "**tensor types**\n",
    "\n",
    "[torch.tensor](https://pytorch.org/docs/stable/tensors.html#torch-tensor)\n"
   ]
  },
  {
   "cell_type": "code",
   "execution_count": 7,
   "metadata": {},
   "outputs": [
    {
     "name": "stdout",
     "output_type": "stream",
     "text": [
      "tensor([[ 1,  2,  3,  4],\n",
      "        [ 5,  6,  7,  8],\n",
      "        [ 9, 10, 11, 12]])\n",
      "-----\n",
      "tensor(4)\n",
      "tensor(7)\n",
      "-----\n",
      "tensor([[1],\n",
      "        [5],\n",
      "        [9]])\n",
      "tensor([[ 1,  2,  3,  4],\n",
      "        [ 9, 10, 11, 12]])\n",
      "tensor([1, 2, 3, 4])\n",
      "tensor(2)\n"
     ]
    }
   ],
   "source": [
    "# indexing and slicing\n",
    "x = torch.tensor([[1, 2, 3, 4], [5, 6, 7, 8], [9, 10, 11, 12]])\n",
    "print(x)\n",
    "print('-----')\n",
    "\n",
    "print(x[0, 3])\n",
    "print(x[1][2])\n",
    "print('-----')\n",
    "\n",
    "print(x[:, :1])\n",
    "print(x[::2])\n",
    "print(x[::2][0])\n",
    "print(x[::2][0][1]) # multiple indexing is applied to the returned tensor\n"
   ]
  },
  {
   "cell_type": "code",
   "execution_count": 8,
   "metadata": {},
   "outputs": [
    {
     "name": "stdout",
     "output_type": "stream",
     "text": [
      "tensor([[[1]]], dtype=torch.uint8)\n",
      "1\n",
      "-----\n",
      "tensor(2.5000, dtype=torch.float64)\n",
      "2.5\n"
     ]
    }
   ],
   "source": [
    "# get value from a single-value tensor\n",
    "x = torch.tensor([[[1]]], dtype=torch.uint8)\n",
    "print(x)\n",
    "print(x.item())\n",
    "print('-----')\n",
    "\n",
    "x = torch.tensor(2.5, dtype=torch.float64)\n",
    "print(x)\n",
    "print(x.item())\n"
   ]
  },
  {
   "cell_type": "code",
   "execution_count": 9,
   "metadata": {},
   "outputs": [
    {
     "name": "stdout",
     "output_type": "stream",
     "text": [
      "torch.Size([5, 3])\n"
     ]
    }
   ],
   "source": [
    "# get tensor size\n",
    "x = torch.rand(5, 3)\n",
    "print(x.size())  # <- is a tuple\n",
    "size_tuple = x.size()\n"
   ]
  },
  {
   "cell_type": "code",
   "execution_count": 10,
   "metadata": {},
   "outputs": [
    {
     "name": "stdout",
     "output_type": "stream",
     "text": [
      "tensor([[3, 2, 3],\n",
      "        [2, 2, 3]])\n",
      "tensor([[3, 2, 3],\n",
      "        [2, 2, 3]])\n",
      "tensor([[3., 2., 3.],\n",
      "        [2., 2., 3.]])\n",
      "tensor([[3, 2, 3],\n",
      "        [2, 2, 3]])\n"
     ]
    }
   ],
   "source": [
    "# multiple syntaxes for adding\n",
    "x = torch.ones(2, 3, dtype=torch.long)\n",
    "y = torch.randint(high=3, size=(2, 3))\n",
    "print(x + y)  # use `+` operator\n",
    "\n",
    "print(torch.add(x, y))  # use torch function\n",
    "\n",
    "result = torch.empty(2, 3)\n",
    "torch.add(x, y, out=result)  # provide an output tensor <- will return value as well\n",
    "print(result)\n",
    "\n",
    "y.add_(x)  # in-place addition\n",
    "print(y)\n",
    "\n",
    "# any method followed by `_` modifies the tensor in-place\n",
    "# e.g. `copy_`, `t_`\n"
   ]
  },
  {
   "cell_type": "code",
   "execution_count": 11,
   "metadata": {},
   "outputs": [
    {
     "name": "stdout",
     "output_type": "stream",
     "text": [
      "tensor([0.9643, 0.4988, 0.8848, 0.1339, 0.1901, 0.8206, 0.8670, 0.1985, 0.8874,\n",
      "        0.4964, 0.5432, 0.0844, 0.2389, 0.2434, 0.4460, 0.8255])\n",
      "tensor([[[0.9643, 0.4988],\n",
      "         [0.8848, 0.1339],\n",
      "         [0.1901, 0.8206],\n",
      "         [0.8670, 0.1985],\n",
      "         [0.8874, 0.4964],\n",
      "         [0.5432, 0.0844],\n",
      "         [0.2389, 0.2434],\n",
      "         [0.4460, 0.8255]]])\n",
      "-----\n",
      "torch.Size([2, 2, 4])\n",
      "tensor([[[0.9643, 0.4988, 0.8848, 0.1339],\n",
      "         [0.1901, 0.8206, 0.8670, 0.1985]],\n",
      "\n",
      "        [[0.8874, 0.4964, 0.5432, 0.0844],\n",
      "         [0.2389, 0.2434, 0.4460, 0.8255]]])\n"
     ]
    }
   ],
   "source": [
    "# resizing tensors\n",
    "x = torch.rand(4, 4)\n",
    "print(x.view(16))\n",
    "print(x.view(1, 8, 2))\n",
    "print('-----')\n",
    "\n",
    "reshaped = x.view(2, -1, 4)  # `-1` indicates size inferred from other dimensions\n",
    "print(reshaped.size())\n",
    "print(reshaped)\n"
   ]
  },
  {
   "cell_type": "markdown",
   "metadata": {},
   "source": [
    "All tensor operations are described in the [docs](https://pytorch.org/docs/torch).\n"
   ]
  },
  {
   "cell_type": "markdown",
   "metadata": {},
   "source": [
    "###  3. PyTorch & NumPy\n"
   ]
  },
  {
   "cell_type": "markdown",
   "metadata": {},
   "source": [
    "When creating numpy array from torch tensor they will share their memory locations (if the tensor is on CPU).\n"
   ]
  },
  {
   "cell_type": "code",
   "execution_count": 12,
   "metadata": {},
   "outputs": [
    {
     "name": "stdout",
     "output_type": "stream",
     "text": [
      "tensor([1., 1., 1., 1., 1.])\n",
      "[1. 1. 1. 1. 1.]\n",
      "tensor([2., 2., 2., 2., 2.])\n",
      "[2. 2. 2. 2. 2.]\n"
     ]
    }
   ],
   "source": [
    "a = torch.ones(5)\n",
    "print(a)\n",
    "\n",
    "b = a.numpy() #  convert tensor to `np.ndarray`\n",
    "print(b)\n",
    "\n",
    "a.add_(1)\n",
    "print(a)\n",
    "print(b)\n"
   ]
  },
  {
   "cell_type": "markdown",
   "metadata": {},
   "source": [
    "Same happens when converting from numpy array to torch tensor.\n"
   ]
  },
  {
   "cell_type": "code",
   "execution_count": 13,
   "metadata": {},
   "outputs": [
    {
     "name": "stdout",
     "output_type": "stream",
     "text": [
      "[2. 2. 2. 2. 2.]\n",
      "tensor([2., 2., 2., 2., 2.], dtype=torch.float64)\n"
     ]
    }
   ],
   "source": [
    "a = np.ones(5)\n",
    "b = torch.from_numpy(a)\n",
    "np.add(a, 1, out=a)\n",
    "print(a)\n",
    "print(b)\n"
   ]
  },
  {
   "cell_type": "markdown",
   "metadata": {},
   "source": [
    "Unless you use `torch.tensor`, which copies the data.\n"
   ]
  },
  {
   "cell_type": "code",
   "execution_count": 14,
   "metadata": {},
   "outputs": [
    {
     "name": "stdout",
     "output_type": "stream",
     "text": [
      "[2. 2. 2. 2. 2.]\n",
      "tensor([1., 1., 1., 1., 1.], dtype=torch.float64)\n"
     ]
    }
   ],
   "source": [
    "a = np.ones(5)\n",
    "b = torch.tensor(a)\n",
    "np.add(a, 1, out=a)\n",
    "print(a)\n",
    "print(b)\n"
   ]
  },
  {
   "cell_type": "markdown",
   "metadata": {},
   "source": [
    "###  4. CUDA\n"
   ]
  },
  {
   "cell_type": "markdown",
   "metadata": {},
   "source": [
    "Tensors can be moved between devices using `.to` method. This part will work only if you use a machine with CUDA GPU.\n"
   ]
  },
  {
   "cell_type": "code",
   "execution_count": 15,
   "metadata": {},
   "outputs": [
    {
     "name": "stdout",
     "output_type": "stream",
     "text": [
      "No CUDA device available.\n"
     ]
    }
   ],
   "source": [
    "if torch.cuda.is_available():\n",
    "    gpu = torch.device(\"cuda\")\n",
    "    x = torch.ones(5, 5, device=gpu)\n",
    "    y = torch.randint(3, (5, 5))\n",
    "    y.to(gpu)\n",
    "    result = x + y\n",
    "    print(result)\n",
    "    print(result.to(\"cpu\", dtype=torch.double))\n",
    "else:\n",
    "    print('No CUDA device available.')\n"
   ]
  },
  {
   "cell_type": "markdown",
   "metadata": {},
   "source": [
    "------"
   ]
  },
  {
   "cell_type": "markdown",
   "metadata": {},
   "source": [
    "Exercises\n",
    "-----\n"
   ]
  },
  {
   "cell_type": "markdown",
   "metadata": {},
   "source": [
    "1. Create two tensors of shape $\\left(27, 19, 31\\right)$ and $\\left(31, 111\\right)$. Use any of the random tensor creation methods. Make sure their dtype is floating-point.\n"
   ]
  },
  {
   "cell_type": "code",
   "execution_count": null,
   "metadata": {},
   "outputs": [],
   "source": []
  },
  {
   "cell_type": "markdown",
   "metadata": {},
   "source": [
    "2. Perform matrix multiplication of the tensors (`@`, `torch.matmul` or `tensor.matmul_`). What is the size of the new tensor?"
   ]
  },
  {
   "cell_type": "code",
   "execution_count": null,
   "metadata": {},
   "outputs": [],
   "source": []
  },
  {
   "cell_type": "markdown",
   "metadata": {},
   "source": [
    "3. Perform summing across the last dimension (pass optional argument `dim=-1` to `torch.sum`). What is the size of the new tensor?"
   ]
  },
  {
   "cell_type": "code",
   "execution_count": null,
   "metadata": {},
   "outputs": [],
   "source": []
  },
  {
   "cell_type": "markdown",
   "metadata": {},
   "source": [
    "4. Use `torch.mean` to calculate average across the first dimension of the `summed` tensor."
   ]
  },
  {
   "cell_type": "code",
   "execution_count": null,
   "metadata": {},
   "outputs": [],
   "source": []
  }
 ],
 "metadata": {
  "kernelspec": {
   "display_name": "Python 3",
   "language": "python",
   "name": "python3"
  },
  "language_info": {
   "codemirror_mode": {
    "name": "ipython",
    "version": 3
   },
   "file_extension": ".py",
   "mimetype": "text/x-python",
   "name": "python",
   "nbconvert_exporter": "python",
   "pygments_lexer": "ipython3",
   "version": "3.7.6"
  }
 },
 "nbformat": 4,
 "nbformat_minor": 4
}
